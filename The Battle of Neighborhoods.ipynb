{
 "cells": [
  {
   "cell_type": "markdown",
   "metadata": {
    "collapsed": true
   },
   "source": [
    "# The Battle of the Neighborhoods"
   ]
  },
  {
   "cell_type": "markdown",
   "metadata": {},
   "source": [
    "## Introduction"
   ]
  },
  {
   "cell_type": "markdown",
   "metadata": {},
   "source": [
    "<font size=\"3\"> With Covid-19 becoming the one of the most dominant pandemics in recent history, many aspects of a \"common lifestyle\" have disappeared. Tourism, once a strong contributor to a city's economic standing, has become almost non-existant around parts of the world. With the majority of the population restricted from outdoor activities, many tourist destinations and businesses have faced uncountable hardships and challenges in an effort to stay relevant and in business. <font>\n",
    "    \n",
    "<font size=\"3\"> For many cities and countries, tourism is the primary source of income. It boosts the economy and supports many local small business. With vaccines becoming more widely available and the public becoming more comfortable with travel, it would be wise to consider opening a restaurant or a small business in popular tourist destinations. <font>\n",
    "\n",
    "\n",
    "    "
   ]
  },
  {
   "cell_type": "markdown",
   "metadata": {},
   "source": [
    "## Business Problem"
   ]
  },
  {
   "cell_type": "markdown",
   "metadata": {},
   "source": [
    "<font size=\"3\"> Chicago has faced numerous difficulties over the past year. Many small businesses have shut down and tourism, which usually plays a crucial role in Chicago's economic standing, is at an all time low. The objective of this project is to analyze and determine the optimal locations and neighborhoods to open a restaurant or a small business in the city of Chicago. These locations should be determined such that it will favor the business and contribute to overall the tourism of the city.   <font>"
   ]
  },
  {
   "cell_type": "markdown",
   "metadata": {},
   "source": [
    "## Data"
   ]
  },
  {
   "cell_type": "markdown",
   "metadata": {},
   "source": [
    "<font size=\"3\"> To best approach the problem mentioned above, we will require data that contains the following information:  </font>\n",
    "    \n",
    "    - All neighborhoods of the city of Chicago\n",
    "    - All businesses and business types in the city of Chicago\n",
    "    \n",
    "    \n",
    "<font size = \"3\"> Source: We will extract all the necessary information and data from a Wikipedia page (https://en.wikipedia.org/wiki/List_of_neighborhoods_in_Chicago) containing all neighborhoods in Chicago. The beautifulsoup4 library in Python will help to webscrape all the neighborhood information from the Wikipedia page. We will also be using the Foursquare API to get all relevent information pertaining to businesses present in Chicago.</font>\n",
    "    "
   ]
  },
  {
   "cell_type": "code",
   "execution_count": 5,
   "metadata": {},
   "outputs": [],
   "source": [
    "import pandas as pd\n",
    "import numpy as np\n",
    "import matplotlib.pyplot as plt\n",
    "%matplotlib inline\n",
    "import requests\n",
    "import csv\n",
    "import json\n",
    "from pandas.io.json import json_normalize\n",
    "from geopy.geocoders import Nominatim\n",
    "import requests\n",
    "import matplotlib.cm as cm\n",
    "import matplotlib.colors as colors\n",
    "from matplotlib.colors import rgb2hex\n",
    "from sklearn.cluster import KMeans\n",
    "import math\n",
    "from bs4 import BeautifulSoup"
   ]
  },
  {
   "cell_type": "code",
   "execution_count": null,
   "metadata": {},
   "outputs": [],
   "source": []
  }
 ],
 "metadata": {
  "kernelspec": {
   "display_name": "Python 3.7",
   "language": "python",
   "name": "python3"
  }
 },
 "nbformat": 4,
 "nbformat_minor": 1
}
