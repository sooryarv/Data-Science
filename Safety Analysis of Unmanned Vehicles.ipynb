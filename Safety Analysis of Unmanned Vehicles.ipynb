{
 "cells": [
  {
   "cell_type": "code",
   "execution_count": 14,
   "metadata": {},
   "outputs": [],
   "source": [
    "import pandas as pd\n",
    "import pandas as pd \n",
    "import seaborn as sns\n",
    "import numpy as np  \n",
    "import datetime\n",
    "from scipy import stats as st\n",
    "import matplotlib.pyplot as plt"
   ]
  },
  {
   "cell_type": "code",
   "execution_count": 15,
   "metadata": {},
   "outputs": [
    {
     "data": {
      "text/html": [
       "<div>\n",
       "<style scoped>\n",
       "    .dataframe tbody tr th:only-of-type {\n",
       "        vertical-align: middle;\n",
       "    }\n",
       "\n",
       "    .dataframe tbody tr th {\n",
       "        vertical-align: top;\n",
       "    }\n",
       "\n",
       "    .dataframe thead th {\n",
       "        text-align: right;\n",
       "    }\n",
       "</style>\n",
       "<table border=\"1\" class=\"dataframe\">\n",
       "  <thead>\n",
       "    <tr style=\"text-align: right;\">\n",
       "      <th></th>\n",
       "      <th>Month</th>\n",
       "      <th>Car</th>\n",
       "      <th>Location</th>\n",
       "      <th>Weather</th>\n",
       "      <th>TypeOfTrigger</th>\n",
       "      <th>ReactionTime</th>\n",
       "      <th>Cause</th>\n",
       "    </tr>\n",
       "  </thead>\n",
       "  <tbody>\n",
       "    <tr>\n",
       "      <th>0</th>\n",
       "      <td>14-Sep</td>\n",
       "      <td>WDD2221851A001072</td>\n",
       "      <td>urban-street</td>\n",
       "      <td>cloudy</td>\n",
       "      <td>automatic</td>\n",
       "      <td>0.58</td>\n",
       "      <td>Incorrect Traffic Light Detection</td>\n",
       "    </tr>\n",
       "    <tr>\n",
       "      <th>1</th>\n",
       "      <td>14-Sep</td>\n",
       "      <td>WDD2221851A001072</td>\n",
       "      <td>urban-street</td>\n",
       "      <td>cloudy</td>\n",
       "      <td>automatic</td>\n",
       "      <td>0.66</td>\n",
       "      <td>Adverse road surface conditions</td>\n",
       "    </tr>\n",
       "    <tr>\n",
       "      <th>2</th>\n",
       "      <td>14-Sep</td>\n",
       "      <td>WDD2221851A001072</td>\n",
       "      <td>urban-street</td>\n",
       "      <td>cloudy</td>\n",
       "      <td>automatic</td>\n",
       "      <td>1.93</td>\n",
       "      <td>Position Estimation Failure</td>\n",
       "    </tr>\n",
       "    <tr>\n",
       "      <th>3</th>\n",
       "      <td>14-Sep</td>\n",
       "      <td>WDD2221851A001072</td>\n",
       "      <td>urban-street</td>\n",
       "      <td>cloudy</td>\n",
       "      <td>automatic</td>\n",
       "      <td>0.65</td>\n",
       "      <td>Emergency Vehicle</td>\n",
       "    </tr>\n",
       "    <tr>\n",
       "      <th>4</th>\n",
       "      <td>14-Sep</td>\n",
       "      <td>WDD2221851A001072</td>\n",
       "      <td>urban-street</td>\n",
       "      <td>cloudy</td>\n",
       "      <td>automatic</td>\n",
       "      <td>0.64</td>\n",
       "      <td>Adverse road surface conditions</td>\n",
       "    </tr>\n",
       "  </tbody>\n",
       "</table>\n",
       "</div>"
      ],
      "text/plain": [
       "    Month                Car      Location Weather TypeOfTrigger  \\\n",
       "0  14-Sep  WDD2221851A001072  urban-street  cloudy     automatic   \n",
       "1  14-Sep  WDD2221851A001072  urban-street  cloudy     automatic   \n",
       "2  14-Sep  WDD2221851A001072  urban-street  cloudy     automatic   \n",
       "3  14-Sep  WDD2221851A001072  urban-street  cloudy     automatic   \n",
       "4  14-Sep  WDD2221851A001072  urban-street  cloudy     automatic   \n",
       "\n",
       "   ReactionTime                              Cause  \n",
       "0          0.58  Incorrect Traffic Light Detection  \n",
       "1          0.66    Adverse road surface conditions  \n",
       "2          1.93        Position Estimation Failure  \n",
       "3          0.65                  Emergency Vehicle  \n",
       "4          0.64    Adverse road surface conditions  "
      ]
     },
     "execution_count": 15,
     "metadata": {},
     "output_type": "execute_result"
    }
   ],
   "source": [
    "import types\n",
    "import pandas as pd\n",
    "from botocore.client import Config\n",
    "import ibm_boto3\n",
    "\n",
    "def __iter__(self): return 0\n",
    "\n",
    "# @hidden_cell\n",
    "# The following code accesses a file in your IBM Cloud Object Storage. It includes your credentials.\n",
    "# You might want to remove those credentials before you share the notebook.\n",
    "client_af86b34e8e50450f835e7a79dc50ab8e = ibm_boto3.client(service_name='s3',\n",
    "    ibm_api_key_id='yn3nAgpqwdxQjGB9-qDv8TAaRe4O0MzIqxU3iPFvL2EN',\n",
    "    ibm_auth_endpoint=\"https://iam.cloud.ibm.com/oidc/token\",\n",
    "    config=Config(signature_version='oauth'),\n",
    "    endpoint_url='https://s3-api.us-geo.objectstorage.service.networklayer.com')\n",
    "\n",
    "body = client_af86b34e8e50450f835e7a79dc50ab8e.get_object(Bucket='cs498-donotdelete-pr-8bi3hnl4d9fu5v',Key='mp1_av_disengagements.csv')['Body']\n",
    "# add missing __iter__ method, so pandas accepts body as file-like object\n",
    "if not hasattr(body, \"__iter__\"): body.__iter__ = types.MethodType( __iter__, body )\n",
    "\n",
    "av_disengage_df = pd.read_csv(body)\n",
    "av_disengage_df.head()\n"
   ]
  },
  {
   "cell_type": "code",
   "execution_count": 16,
   "metadata": {},
   "outputs": [
    {
     "data": {
      "text/html": [
       "<div>\n",
       "<style scoped>\n",
       "    .dataframe tbody tr th:only-of-type {\n",
       "        vertical-align: middle;\n",
       "    }\n",
       "\n",
       "    .dataframe tbody tr th {\n",
       "        vertical-align: top;\n",
       "    }\n",
       "\n",
       "    .dataframe thead th {\n",
       "        text-align: right;\n",
       "    }\n",
       "</style>\n",
       "<table border=\"1\" class=\"dataframe\">\n",
       "  <thead>\n",
       "    <tr style=\"text-align: right;\">\n",
       "      <th></th>\n",
       "      <th>Month</th>\n",
       "      <th>Car</th>\n",
       "      <th>miles driven in autonomous mode</th>\n",
       "      <th>total number of disengagements</th>\n",
       "      <th>number of automatic disengagements</th>\n",
       "      <th>number of manual disengagements</th>\n",
       "    </tr>\n",
       "  </thead>\n",
       "  <tbody>\n",
       "    <tr>\n",
       "      <th>0</th>\n",
       "      <td>14-Sep</td>\n",
       "      <td>WDD2221851A001072</td>\n",
       "      <td>4207</td>\n",
       "      <td>44</td>\n",
       "      <td>24</td>\n",
       "      <td>20</td>\n",
       "    </tr>\n",
       "    <tr>\n",
       "      <th>1</th>\n",
       "      <td>14-Oct</td>\n",
       "      <td>WDD2221851A001072</td>\n",
       "      <td>23971</td>\n",
       "      <td>228</td>\n",
       "      <td>100</td>\n",
       "      <td>128</td>\n",
       "    </tr>\n",
       "    <tr>\n",
       "      <th>2</th>\n",
       "      <td>14-Nov</td>\n",
       "      <td>WDD2221851A001072</td>\n",
       "      <td>15837</td>\n",
       "      <td>141</td>\n",
       "      <td>66</td>\n",
       "      <td>75</td>\n",
       "    </tr>\n",
       "    <tr>\n",
       "      <th>3</th>\n",
       "      <td>14-Dec</td>\n",
       "      <td>WDD2221851A001072</td>\n",
       "      <td>9413</td>\n",
       "      <td>36</td>\n",
       "      <td>15</td>\n",
       "      <td>21</td>\n",
       "    </tr>\n",
       "    <tr>\n",
       "      <th>4</th>\n",
       "      <td>15-Jan</td>\n",
       "      <td>WDD2221851A001072</td>\n",
       "      <td>18192</td>\n",
       "      <td>48</td>\n",
       "      <td>18</td>\n",
       "      <td>30</td>\n",
       "    </tr>\n",
       "  </tbody>\n",
       "</table>\n",
       "</div>"
      ],
      "text/plain": [
       "    Month                Car  miles driven in autonomous mode  \\\n",
       "0  14-Sep  WDD2221851A001072                             4207   \n",
       "1  14-Oct  WDD2221851A001072                            23971   \n",
       "2  14-Nov  WDD2221851A001072                            15837   \n",
       "3  14-Dec  WDD2221851A001072                             9413   \n",
       "4  15-Jan  WDD2221851A001072                            18192   \n",
       "\n",
       "   total number of disengagements  number of automatic disengagements  \\\n",
       "0                              44                                  24   \n",
       "1                             228                                 100   \n",
       "2                             141                                  66   \n",
       "3                              36                                  15   \n",
       "4                              48                                  18   \n",
       "\n",
       "   number of manual disengagements  \n",
       "0                               20  \n",
       "1                              128  \n",
       "2                               75  \n",
       "3                               21  \n",
       "4                               30  "
      ]
     },
     "execution_count": 16,
     "metadata": {},
     "output_type": "execute_result"
    }
   ],
   "source": [
    "body = client_af86b34e8e50450f835e7a79dc50ab8e.get_object(Bucket='cs498-donotdelete-pr-8bi3hnl4d9fu5v',Key='mp1_av_totalmiles.csv')['Body']\n",
    "# add missing __iter__ method, so pandas accepts body as file-like object\n",
    "if not hasattr(body, \"__iter__\"): body.__iter__ = types.MethodType( __iter__, body )\n",
    "\n",
    "av_totalmiles_df = pd.read_csv(body)\n",
    "av_totalmiles_df.head()"
   ]
  },
  {
   "cell_type": "code",
   "execution_count": 17,
   "metadata": {},
   "outputs": [
    {
     "name": "stdout",
     "output_type": "stream",
     "text": [
      "Total Number of AV disengagements:  1024\n",
      "Number unique months of Av disengagements:  15\n",
      "Number of NaNs in Month:  0\n",
      "Number of NaNs in Car:  0\n",
      "Number of NaNs in Location:  0\n",
      "Number of NaNs in Weather:  0\n",
      "Number of NaNs in TypeOfTrigger:  0\n",
      "Number of NaNs in ReactionTime:  532\n",
      "Number of NaNs in Cause:  0\n"
     ]
    }
   ],
   "source": [
    "# (Task 0 Step 2 Part A) Summarize number of AV disengagements \n",
    "print(\"Total Number of AV disengagements: \", len(av_disengage_df))\n",
    "\n",
    "# (Task 0 Step 2 Part B) Find number of unique months of AV disengagements \n",
    "print(\"Number unique months of Av disengagements: \", len(av_disengage_df.Month.unique()))\n",
    "\n",
    "# (Task 0 Step 2 Part C) Find number of NaN for each column \n",
    "disengage_col = list(av_disengage_df.columns)\n",
    "for col in disengage_col:\n",
    "  print(f\"Number of NaNs in {col}: \", av_disengage_df[col].isna().sum())\n"
   ]
  },
  {
   "cell_type": "code",
   "execution_count": 18,
   "metadata": {},
   "outputs": [
    {
     "data": {
      "text/plain": [
       "Text(0.5, 1.0, 'Causes of AV disengagement')"
      ]
     },
     "execution_count": 18,
     "metadata": {},
     "output_type": "execute_result"
    },
    {
     "data": {
      "image/png": "[encoded data removed]",
      "text/plain": [
       "<Figure size 432x288 with 1 Axes>"
      ]
     },
     "metadata": {},
     "output_type": "display_data"
    }
   ],
   "source": [
    "# (Task 0 Step 3) Make Pie-Chart of leading causes of AV disengagement \n",
    "av_disengage_df.Cause.value_counts().plot(kind = 'pie', autopct='%1.2f%%')\n",
    "plt.axis('equal')\n",
    "plt.title(\"Causes of AV disengagement\")\n"
   ]
  },
  {
   "cell_type": "markdown",
   "metadata": {},
   "source": [
    "Task 0 Step 3 Question - Based on the pie chart, the top 3 leading causes of AV disengagement appear to be Unwanted Driver Discomfort, Recklessly behaving agent, and incorrect behavior prediction of others"
   ]
  },
  {
   "cell_type": "code",
   "execution_count": 19,
   "metadata": {},
   "outputs": [
    {
     "data": {
      "text/html": [
       "<div>\n",
       "<style scoped>\n",
       "    .dataframe tbody tr th:only-of-type {\n",
       "        vertical-align: middle;\n",
       "    }\n",
       "\n",
       "    .dataframe tbody tr th {\n",
       "        vertical-align: top;\n",
       "    }\n",
       "\n",
       "    .dataframe thead th {\n",
       "        text-align: right;\n",
       "    }\n",
       "</style>\n",
       "<table border=\"1\" class=\"dataframe\">\n",
       "  <thead>\n",
       "    <tr style=\"text-align: right;\">\n",
       "      <th></th>\n",
       "      <th>Month</th>\n",
       "      <th>miles driven in autonomous mode</th>\n",
       "      <th>total number of disengagements</th>\n",
       "      <th>number of automatic disengagements</th>\n",
       "      <th>number of manual disengagements</th>\n",
       "      <th>disengagement per mile</th>\n",
       "    </tr>\n",
       "  </thead>\n",
       "  <tbody>\n",
       "    <tr>\n",
       "      <th>0</th>\n",
       "      <td>2014-09-01</td>\n",
       "      <td>4207</td>\n",
       "      <td>44</td>\n",
       "      <td>24</td>\n",
       "      <td>20</td>\n",
       "      <td>0.010459</td>\n",
       "    </tr>\n",
       "    <tr>\n",
       "      <th>1</th>\n",
       "      <td>2014-10-01</td>\n",
       "      <td>61881</td>\n",
       "      <td>244</td>\n",
       "      <td>111</td>\n",
       "      <td>133</td>\n",
       "      <td>0.003943</td>\n",
       "    </tr>\n",
       "    <tr>\n",
       "      <th>2</th>\n",
       "      <td>2014-11-01</td>\n",
       "      <td>58824</td>\n",
       "      <td>189</td>\n",
       "      <td>85</td>\n",
       "      <td>104</td>\n",
       "      <td>0.003213</td>\n",
       "    </tr>\n",
       "    <tr>\n",
       "      <th>3</th>\n",
       "      <td>2014-12-01</td>\n",
       "      <td>9413</td>\n",
       "      <td>36</td>\n",
       "      <td>15</td>\n",
       "      <td>21</td>\n",
       "      <td>0.003824</td>\n",
       "    </tr>\n",
       "    <tr>\n",
       "      <th>4</th>\n",
       "      <td>2015-01-01</td>\n",
       "      <td>18192</td>\n",
       "      <td>48</td>\n",
       "      <td>18</td>\n",
       "      <td>30</td>\n",
       "      <td>0.002639</td>\n",
       "    </tr>\n",
       "    <tr>\n",
       "      <th>5</th>\n",
       "      <td>2015-02-01</td>\n",
       "      <td>18745</td>\n",
       "      <td>16</td>\n",
       "      <td>8</td>\n",
       "      <td>8</td>\n",
       "      <td>0.000854</td>\n",
       "    </tr>\n",
       "    <tr>\n",
       "      <th>6</th>\n",
       "      <td>2015-03-01</td>\n",
       "      <td>22204</td>\n",
       "      <td>39</td>\n",
       "      <td>31</td>\n",
       "      <td>8</td>\n",
       "      <td>0.001756</td>\n",
       "    </tr>\n",
       "    <tr>\n",
       "      <th>7</th>\n",
       "      <td>2015-04-01</td>\n",
       "      <td>31927</td>\n",
       "      <td>72</td>\n",
       "      <td>51</td>\n",
       "      <td>21</td>\n",
       "      <td>0.002255</td>\n",
       "    </tr>\n",
       "    <tr>\n",
       "      <th>8</th>\n",
       "      <td>2015-05-01</td>\n",
       "      <td>38017</td>\n",
       "      <td>34</td>\n",
       "      <td>11</td>\n",
       "      <td>23</td>\n",
       "      <td>0.000894</td>\n",
       "    </tr>\n",
       "    <tr>\n",
       "      <th>9</th>\n",
       "      <td>2015-06-01</td>\n",
       "      <td>42047</td>\n",
       "      <td>127</td>\n",
       "      <td>58</td>\n",
       "      <td>69</td>\n",
       "      <td>0.003020</td>\n",
       "    </tr>\n",
       "    <tr>\n",
       "      <th>10</th>\n",
       "      <td>2015-07-01</td>\n",
       "      <td>34805</td>\n",
       "      <td>69</td>\n",
       "      <td>30</td>\n",
       "      <td>39</td>\n",
       "      <td>0.001982</td>\n",
       "    </tr>\n",
       "    <tr>\n",
       "      <th>11</th>\n",
       "      <td>2015-08-01</td>\n",
       "      <td>38220</td>\n",
       "      <td>24</td>\n",
       "      <td>13</td>\n",
       "      <td>11</td>\n",
       "      <td>0.000628</td>\n",
       "    </tr>\n",
       "    <tr>\n",
       "      <th>12</th>\n",
       "      <td>2015-09-01</td>\n",
       "      <td>36327</td>\n",
       "      <td>43</td>\n",
       "      <td>22</td>\n",
       "      <td>21</td>\n",
       "      <td>0.001184</td>\n",
       "    </tr>\n",
       "    <tr>\n",
       "      <th>13</th>\n",
       "      <td>2015-10-01</td>\n",
       "      <td>47144</td>\n",
       "      <td>17</td>\n",
       "      <td>5</td>\n",
       "      <td>12</td>\n",
       "      <td>0.000361</td>\n",
       "    </tr>\n",
       "    <tr>\n",
       "      <th>14</th>\n",
       "      <td>2015-11-01</td>\n",
       "      <td>43276</td>\n",
       "      <td>22</td>\n",
       "      <td>11</td>\n",
       "      <td>11</td>\n",
       "      <td>0.000508</td>\n",
       "    </tr>\n",
       "  </tbody>\n",
       "</table>\n",
       "</div>"
      ],
      "text/plain": [
       "        Month  miles driven in autonomous mode  \\\n",
       "0  2014-09-01                             4207   \n",
       "1  2014-10-01                            61881   \n",
       "2  2014-11-01                            58824   \n",
       "3  2014-12-01                             9413   \n",
       "4  2015-01-01                            18192   \n",
       "5  2015-02-01                            18745   \n",
       "6  2015-03-01                            22204   \n",
       "7  2015-04-01                            31927   \n",
       "8  2015-05-01                            38017   \n",
       "9  2015-06-01                            42047   \n",
       "10 2015-07-01                            34805   \n",
       "11 2015-08-01                            38220   \n",
       "12 2015-09-01                            36327   \n",
       "13 2015-10-01                            47144   \n",
       "14 2015-11-01                            43276   \n",
       "\n",
       "    total number of disengagements  number of automatic disengagements  \\\n",
       "0                               44                                  24   \n",
       "1                              244                                 111   \n",
       "2                              189                                  85   \n",
       "3                               36                                  15   \n",
       "4                               48                                  18   \n",
       "5                               16                                   8   \n",
       "6                               39                                  31   \n",
       "7                               72                                  51   \n",
       "8                               34                                  11   \n",
       "9                              127                                  58   \n",
       "10                              69                                  30   \n",
       "11                              24                                  13   \n",
       "12                              43                                  22   \n",
       "13                              17                                   5   \n",
       "14                              22                                  11   \n",
       "\n",
       "    number of manual disengagements  disengagement per mile  \n",
       "0                                20                0.010459  \n",
       "1                               133                0.003943  \n",
       "2                               104                0.003213  \n",
       "3                                21                0.003824  \n",
       "4                                30                0.002639  \n",
       "5                                 8                0.000854  \n",
       "6                                 8                0.001756  \n",
       "7                                21                0.002255  \n",
       "8                                23                0.000894  \n",
       "9                                69                0.003020  \n",
       "10                               39                0.001982  \n",
       "11                               11                0.000628  \n",
       "12                               21                0.001184  \n",
       "13                               12                0.000361  \n",
       "14                               11                0.000508  "
      ]
     },
     "execution_count": 19,
     "metadata": {},
     "output_type": "execute_result"
    }
   ],
   "source": [
    "av_totalmiles_df['Month'] = pd.to_datetime(av_totalmiles_df['Month'],format='%y-%b')\n",
    "totalmiles = av_totalmiles_df.groupby('Month').sum().reset_index()\n",
    "totalmiles['disengagement per mile'] = totalmiles['total number of disengagements']/totalmiles['miles driven in autonomous mode']\n",
    "totalmiles"
   ]
  },
  {
   "cell_type": "code",
   "execution_count": 20,
   "metadata": {},
   "outputs": [
    {
     "data": {
      "text/plain": [
       "Text(0, 0.5, 'Disengagements per Mile')"
      ]
     },
     "execution_count": 20,
     "metadata": {},
     "output_type": "execute_result"
    },
    {
     "data": {
      "image/png": "[encoded data removed]",
      "text/plain": [
       "<Figure size 432x288 with 1 Axes>"
      ]
     },
     "metadata": {
      "needs_background": "light"
     },
     "output_type": "display_data"
    }
   ],
   "source": [
    "plt.plot(totalmiles['Month'], totalmiles['disengagement per mile'])\n",
    "plt.title('Disengagements per Mile with Monthly Granularity.')\n",
    "plt.xlabel('Month')\n",
    "plt.ylabel('Disengagements per Mile')"
   ]
  },
  {
   "cell_type": "markdown",
   "metadata": {},
   "source": [
    "Task 0 Step 4 Question - Based on this plot, the trend seems to be that the the number of disengagement per mile has decreased with each consecutive month. It would indicate that the AVs are improving over time"
   ]
  },
  {
   "cell_type": "code",
   "execution_count": 21,
   "metadata": {},
   "outputs": [
    {
     "data": {
      "text/plain": [
       "Text(0.5, 0, 'Reaction Time')"
      ]
     },
     "execution_count": 21,
     "metadata": {},
     "output_type": "execute_result"
    },
    {
     "data": {
      "image/png": "[encoded data removed]",
      "text/plain": [
       "<Figure size 432x288 with 1 Axes>"
      ]
     },
     "metadata": {
      "needs_background": "light"
     },
     "output_type": "display_data"
    }
   ],
   "source": [
    "# (Task 1 Step 1) Plot the probability distribution of reaction times.\n",
    "av_disengage_df['ReactionTime'].dropna().plot(kind = 'hist', bins = 50)\n",
    "plt.title('Probability Distribution of Reaction Times')\n",
    "plt.xlabel('Reaction Time')"
   ]
  },
  {
   "cell_type": "code",
   "execution_count": 22,
   "metadata": {},
   "outputs": [
    {
     "name": "stderr",
     "output_type": "stream",
     "text": [
      "/opt/conda/envs/Python-3.7-main/lib/python3.7/site-packages/seaborn/distributions.py:2551: FutureWarning: `distplot` is a deprecated function and will be removed in a future version. Please adapt your code to use either `displot` (a figure-level function with similar flexibility) or `histplot` (an axes-level function for histograms).\n",
      "  warnings.warn(msg, FutureWarning)\n"
     ]
    },
    {
     "data": {
      "text/plain": [
       "<matplotlib.axes._subplots.AxesSubplot at 0x7fcf0c2c6450>"
      ]
     },
     "execution_count": 22,
     "metadata": {},
     "output_type": "execute_result"
    },
    {
     "data": {
      "image/png": "[encoded data removed]",
      "text/plain": [
       "<Figure size 432x288 with 1 Axes>"
      ]
     },
     "metadata": {
      "needs_background": "light"
     },
     "output_type": "display_data"
    }
   ],
   "source": [
    "sns.distplot(av_disengage_df['ReactionTime'].dropna().values, fit = st.exponweib)"
   ]
  },
  {
   "cell_type": "code",
   "execution_count": 23,
   "metadata": {},
   "outputs": [
    {
     "name": "stderr",
     "output_type": "stream",
     "text": [
      "/opt/conda/envs/Python-3.7-main/lib/python3.7/site-packages/seaborn/distributions.py:2551: FutureWarning: `distplot` is a deprecated function and will be removed in a future version. Please adapt your code to use either `displot` (a figure-level function with similar flexibility) or `histplot` (an axes-level function for histograms).\n",
      "  warnings.warn(msg, FutureWarning)\n"
     ]
    },
    {
     "data": {
      "text/plain": [
       "<matplotlib.axes._subplots.AxesSubplot at 0x7fcf0c2a0490>"
      ]
     },
     "execution_count": 23,
     "metadata": {},
     "output_type": "execute_result"
    },
    {
     "data": {
      "image/png": "[encoded data removed]",
      "text/plain": [
       "<Figure size 432x288 with 1 Axes>"
      ]
     },
     "metadata": {
      "needs_background": "light"
     },
     "output_type": "display_data"
    }
   ],
   "source": [
    "sns.distplot(av_disengage_df['ReactionTime'].dropna().values, fit = st.expon)"
   ]
  },
  {
   "cell_type": "markdown",
   "metadata": {},
   "source": [
    "Task 1 Step 1 Question - It would seem that the distribution most accurately fits a Weibull distribution. This signifies that a high reaction time for human beings is very rare."
   ]
  },
  {
   "cell_type": "code",
   "execution_count": 24,
   "metadata": {},
   "outputs": [
    {
     "name": "stdout",
     "output_type": "stream",
     "text": [
      "Average reaction time for the entire duration of the dataset: 0.9297703252032521\n"
     ]
    }
   ],
   "source": [
    "# (Task 1 Step 2 Part A) Compute the average reaction time for the entire duration of the dataset\n",
    "average_reaction_time = av_disengage_df['ReactionTime'].mean()\n",
    "print(f'Average reaction time for the entire duration of the dataset: ' + str(average_reaction_time))"
   ]
  },
  {
   "cell_type": "code",
   "execution_count": 25,
   "metadata": {},
   "outputs": [
    {
     "name": "stdout",
     "output_type": "stream",
     "text": [
      "              ReactionTime\n",
      "Location                  \n",
      "highway            1.48000\n",
      "urban-street       0.92865\n"
     ]
    }
   ],
   "source": [
    "# (Task 1 Step 2 Part B) Compute the average reaction time for the entire duration of the dataset\n",
    "#                               differentiated by the location of disengagement\n",
    "average_reaction_time = av_disengage_df.groupby(av_disengage_df['Location']).mean()\n",
    "print(average_reaction_time)"
   ]
  },
  {
   "cell_type": "code",
   "execution_count": 26,
   "metadata": {},
   "outputs": [
    {
     "name": "stdout",
     "output_type": "stream",
     "text": [
      "-2.0986037086235854 0.03636206696694606\n"
     ]
    }
   ],
   "source": [
    "# (Task 1 Step 3 Part A) Perform a hypothesis testing at 0.03 significance level. \n",
    "test = st.ttest_1samp(list(av_disengage_df[av_disengage_df['ReactionTime'].notnull()]['ReactionTime']), 1.09)\n",
    "print(test[0], test[1])"
   ]
  },
  {
   "cell_type": "code",
   "execution_count": 27,
   "metadata": {},
   "outputs": [
    {
     "data": {
      "text/plain": [
       "Text(0.5, 0, 'Disengagements per Mile')"
      ]
     },
     "execution_count": 27,
     "metadata": {},
     "output_type": "execute_result"
    },
    {
     "data": {
      "image/png": "[encoded data removed]",
      "text/plain": [
       "<Figure size 432x288 with 1 Axes>"
      ]
     },
     "metadata": {
      "needs_background": "light"
     },
     "output_type": "display_data"
    }
   ],
   "source": [
    "# (Task 1 Step 4)\n",
    "totalmiles['disengagement per mile'].plot(kind = 'hist', bins = 20)\n",
    "plt.title('Probability Distribution of Disengagements per Mile')\n",
    "plt.xlabel('Disengagements per Mile')"
   ]
  },
  {
   "cell_type": "code",
   "execution_count": 28,
   "metadata": {},
   "outputs": [
    {
     "name": "stderr",
     "output_type": "stream",
     "text": [
      "/opt/conda/envs/Python-3.7-main/lib/python3.7/site-packages/seaborn/distributions.py:2551: FutureWarning: `distplot` is a deprecated function and will be removed in a future version. Please adapt your code to use either `displot` (a figure-level function with similar flexibility) or `histplot` (an axes-level function for histograms).\n",
      "  warnings.warn(msg, FutureWarning)\n"
     ]
    },
    {
     "data": {
      "text/plain": [
       "<matplotlib.axes._subplots.AxesSubplot at 0x7fcf05fdba10>"
      ]
     },
     "execution_count": 28,
     "metadata": {},
     "output_type": "execute_result"
    },
    {
     "data": {
      "image/png": "[encoded data removed]",
      "text/plain": [
       "<Figure size 432x288 with 1 Axes>"
      ]
     },
     "metadata": {
      "needs_background": "light"
     },
     "output_type": "display_data"
    }
   ],
   "source": [
    "sns.distplot(totalmiles['disengagement per mile'].values, fit = st.expon)"
   ]
  },
  {
   "cell_type": "code",
   "execution_count": 29,
   "metadata": {},
   "outputs": [
    {
     "name": "stderr",
     "output_type": "stream",
     "text": [
      "/opt/conda/envs/Python-3.7-main/lib/python3.7/site-packages/seaborn/distributions.py:2551: FutureWarning: `distplot` is a deprecated function and will be removed in a future version. Please adapt your code to use either `displot` (a figure-level function with similar flexibility) or `histplot` (an axes-level function for histograms).\n",
      "  warnings.warn(msg, FutureWarning)\n",
      "/opt/conda/envs/Python-3.7-main/lib/python3.7/site-packages/scipy/stats/_continuous_distns.py:1678: RuntimeWarning: invalid value encountered in add\n",
      "  negxc + sc.xlogy(c - 1.0, x))\n"
     ]
    },
    {
     "data": {
      "text/plain": [
       "<matplotlib.axes._subplots.AxesSubplot at 0x7fcf05f55290>"
      ]
     },
     "execution_count": 29,
     "metadata": {},
     "output_type": "execute_result"
    },
    {
     "data": {
      "image/png": "[encoded data removed]",
      "text/plain": [
       "<Figure size 432x288 with 1 Axes>"
      ]
     },
     "metadata": {
      "needs_background": "light"
     },
     "output_type": "display_data"
    }
   ],
   "source": [
    "sns.distplot(totalmiles['disengagement per mile'].values, fit = st.exponweib)"
   ]
  },
  {
   "cell_type": "markdown",
   "metadata": {},
   "source": [
    "Task 1 Step 4 Question - It would seem that the distribution most accurately fits an exponential distribution."
   ]
  },
  {
   "cell_type": "markdown",
   "metadata": {},
   "source": [
    "Task 2 Step 1 Part A - The assumption of at most one disengagement per mile allows us to treat the occurrence of a disengagement in a mile as a random variable with a Bernouli distribution."
   ]
  },
  {
   "cell_type": "code",
   "execution_count": 30,
   "metadata": {},
   "outputs": [
    {
     "data": {
      "text/plain": [
       "0.00590255677552725"
      ]
     },
     "execution_count": 30,
     "metadata": {},
     "output_type": "execute_result"
    }
   ],
   "source": [
    "# (Task 2 Step 1 Part B) Find the probability of disengagement per mile given that the weather is cloudy.\n",
    "prob_dpm = totalmiles['total number of disengagements'].sum()/totalmiles['miles driven in autonomous mode'].sum()\n",
    "prob_cld = 0.28\n",
    "prob_cld_dpm = (sum(av_disengage_df['Weather'] == 'cloudy') / len(av_disengage_df))  #The probability of weather being cloudy given disengagement per mile\n",
    "\n",
    "prob_dpm_cld = prob_cld_dpm * prob_dpm / prob_cld\n",
    "\n",
    "prob_dpm_cld\n"
   ]
  },
  {
   "cell_type": "markdown",
   "metadata": {},
   "source": [
    "Task 2 Step 1 Part B - P(Disengagement per mile | cloudy) = P(cloudy | Disengagement per mile) * P(Disengagement per mile) / P(cloudy) = 0.00590255677552725"
   ]
  },
  {
   "cell_type": "code",
   "execution_count": 31,
   "metadata": {},
   "outputs": [
    {
     "data": {
      "text/plain": [
       "0.0005195663748517999"
      ]
     },
     "execution_count": 31,
     "metadata": {},
     "output_type": "execute_result"
    }
   ],
   "source": [
    "# (Task 2 Step 1 Part C) Find the probability of disengagement per mile given that the weather is clear.\n",
    "prob_clr = 0.72\n",
    "prob_clr_dpm = (sum(av_disengage_df['Weather'] == 'clear') / len(av_disengage_df)) #The probability of weather being clear given disengagement per mile\n",
    "\n",
    "prob_dpm_clr = prob_clr_dpm * prob_dpm / prob_clr\n",
    "\n",
    "prob_dpm_clr"
   ]
  },
  {
   "cell_type": "markdown",
   "metadata": {},
   "source": [
    "Task 2 Step 1 Part C - P(Disengagement per mile | clear) = P(clear | Disengagement per mile) * P(Disengagement per mile) / P(clear) = 0.0005195663748517999"
   ]
  },
  {
   "cell_type": "code",
   "execution_count": 32,
   "metadata": {},
   "outputs": [
    {
     "name": "stdout",
     "output_type": "stream",
     "text": [
      "0.0028063653172267287 0.00026390673008345393\n"
     ]
    }
   ],
   "source": [
    "# (Task 2 Step 1 Part D) Find the probability of automatic disengagement per mile given that the weather is cloudy. Find the probability of automatic disengagement per mile given that the weather is clear.\n",
    "\n",
    "prob_auto_dpm_cld = (sum((av_disengage_df['Weather'] == 'cloudy') & (av_disengage_df['TypeOfTrigger'] == 'automatic')) / len(av_disengage_df)) * prob_dpm / prob_cld \n",
    "\n",
    "prob_auto_dpm_clr = (sum((av_disengage_df['Weather'] == 'clear') & (av_disengage_df['TypeOfTrigger'] == 'automatic')) / len(av_disengage_df)) * prob_dpm / prob_clr\n",
    "\n",
    "print(prob_auto_dpm_cld, prob_auto_dpm_clr)"
   ]
  },
  {
   "cell_type": "markdown",
   "metadata": {},
   "source": [
    "Task 2 Step 1 Part D - P(Automatic & Disengagement per mile | cloudy) = P(cloudy, automatic | Disengagement per mile) * P(Disengagement per mile) / P(cloudy) = 0.0028063653172267287\n",
    "P(Automatic & Disengagement per mile | clear) = P(clear, automatic | Disengagement per mile) * P(Disengagement per mile) / P(clear) = 0.00026390673008345393"
   ]
  },
  {
   "cell_type": "code",
   "execution_count": 33,
   "metadata": {},
   "outputs": [
    {
     "data": {
      "text/plain": [
       "4.7505365530220445e-08"
      ]
     },
     "execution_count": 33,
     "metadata": {},
     "output_type": "execute_result"
    }
   ],
   "source": [
    "# (Task 2 Step 1 Part E) Find how likely it is that in 10000 miles, there are 100 or more disengagements under cloudy conditions.\n",
    "mean = 10000 * prob_dpm_cld\n",
    "std = np.sqrt(10000 * prob_dpm_cld * (1 - prob_dpm_cld)) # 10000 * P(DPM | Cloudy) * (1 - P(DPM | Cloudy))\n",
    "#print(mean, std)\n",
    "prob_hundredplus_cld = 1 - st.norm(mean, std).cdf(99.9) #Approximating using Normal Distribution\n",
    "prob_hundredplus_cld"
   ]
  },
  {
   "cell_type": "markdown",
   "metadata": {},
   "source": [
    "Task 2 Step 1 Part E - The probability of there 100 or more disengagements under cloudy conitions is 4.7505365530220445e-08."
   ]
  },
  {
   "cell_type": "code",
   "execution_count": 34,
   "metadata": {},
   "outputs": [
    {
     "name": "stdout",
     "output_type": "stream",
     "text": [
      "z-score:  0.004978288939337362\n"
     ]
    }
   ],
   "source": [
    "# (Task 2 Step 2) At a 0.05 significance level, test the following hypothesis: The AV has more disengagements (automatic and manual) on cloudy days than clear days.\n",
    "\n",
    "# use two-proportion z-test where two samples are cloudy days and clear days \n",
    "\n",
    "# formula used : ((p1 - p2) - 0) / (sqrt(p * (1-p) * ((1/n1) + (1/n2))))\n",
    "\n",
    "# Based on the assumptions given for the problem (A day can be cloudy or clear, but not both), days are split into cloudy and clear based on what was most common for that day in the data\n",
    "# 14 Sep - cloudy, 14 Oct - cloudy, 14 Nov - cloudy, 14 Dec - clear, 15 Jan - clear, 15 Feb - clear, 15 March - clear, 15 Apr - cloudy, 15 May - cloudy\n",
    "# 15 June - cloudy, 15 July - cloudy , 15 Aug - cloudy, 15 Sept - cloudy, 15 Oct - cloudy, 15 Nov - Cloudy \n",
    "\n",
    "# Figure out the total number of miles driven in cloudy and clear conditions respectively and disengagments \n",
    "# Using assumption that there can only be one disengagement in a mile \n",
    "\n",
    "miles_list = list(av_totalmiles_df['miles driven in autonomous mode'])\n",
    "diseng_list = list(av_totalmiles_df['total number of disengagements'])\n",
    "\n",
    "#clear conditions:\n",
    "miles_clear = sum(miles_list[3:7])\n",
    "#print(miles_clear)\n",
    "diseng_clear = sum(diseng_list[3:7])\n",
    "#print(diseng_clear)\n",
    "\n",
    "#cloudy conditions\n",
    "miles_cloudy = sum(miles_list[0:3]) + sum(miles_list[7: len(miles_list)])\n",
    "#print(miles_cloudy)\n",
    "diseng_cloudy = sum(diseng_list[0:3]) + sum(diseng_list[7:len(diseng_list)])\n",
    "#print(diseng_cloudy)\n",
    "\n",
    "#calculating p1 and p2 \n",
    "p1 =  diseng_clear / miles_clear\n",
    "p2 = diseng_cloudy / miles_cloudy \n",
    "#print(p1, p2)\n",
    "#calculating p \n",
    "p = (diseng_clear + diseng_cloudy) / (miles_clear + miles_cloudy)\n",
    "#print(p) \n",
    "\n",
    "#numerator and denominator of formula\n",
    "num = p1 - p2 \n",
    "den = np.sqrt(p * (1 - p) * ((1/miles_cloudy) + (1/miles_clear)))\n",
    "\n",
    "print(\"z-score: \" , num/den)"
   ]
  },
  {
   "cell_type": "markdown",
   "metadata": {},
   "source": [
    "H_0: # of disengagements on a cloudy day <= # of disengagments on a clear day\n",
    "\n",
    "H_1: # of disengagements on a cloudy day > # of disengagements on a clear day"
   ]
  },
  {
   "cell_type": "code",
   "execution_count": 35,
   "metadata": {},
   "outputs": [
    {
     "data": {
      "text/plain": [
       "0.6120906801007556"
      ]
     },
     "execution_count": 35,
     "metadata": {},
     "output_type": "execute_result"
    }
   ],
   "source": [
    "# (Task 2 Step 3 Part A) The conditional probability that the reaction time is greater than 0.4s given that the weather was cloudy.\n",
    "prob_rt_cld = sum((av_disengage_df['Weather'] == 'cloudy') & (av_disengage_df['TypeOfTrigger'] == 'automatic') & (av_disengage_df['ReactionTime'] > 0.4)) / sum((av_disengage_df['Weather'] == 'cloudy') & (av_disengage_df['TypeOfTrigger'] == 'automatic')) \n",
    "prob_rt_cld"
   ]
  },
  {
   "cell_type": "markdown",
   "metadata": {},
   "source": [
    "Task 2 Step 3 Part A - The probability of the reaction time being greater than 0.4s given that the weather was cloudy: 0.6120906801007556.\n",
    "    \n",
    "P(RT > 0.7 | automatic, clear) = conditional observations of RT > 0.7 & Automatic & Cloudy"
   ]
  },
  {
   "cell_type": "code",
   "execution_count": 36,
   "metadata": {},
   "outputs": [
    {
     "data": {
      "text/plain": [
       "0.3854166666666667"
      ]
     },
     "execution_count": 36,
     "metadata": {},
     "output_type": "execute_result"
    }
   ],
   "source": [
    "# (Task 2 Step 3 Part B) The conditional probability that the reaction time is greater than 0.4s given that the weather was cloudy.\n",
    "prob_rt_clr = sum((av_disengage_df['Weather'] == 'clear') & (av_disengage_df['TypeOfTrigger'] == 'automatic') & (av_disengage_df['ReactionTime'] > 0.7)) / sum((av_disengage_df['Weather'] == 'clear') & (av_disengage_df['TypeOfTrigger'] == 'automatic')) \n",
    "prob_rt_clr"
   ]
  },
  {
   "cell_type": "markdown",
   "metadata": {},
   "source": [
    "Task 2 Step 3 Part B - The probability of the reaction time being greater than 0.4s given that the weather was cloudy: 0.3854166666666667.\n",
    "    \n",
    "P(RT > 0.7 | automatic, clear) = conditional observations of RT > 0.7 & Automatic & Clear"
   ]
  },
  {
   "cell_type": "code",
   "execution_count": 37,
   "metadata": {},
   "outputs": [
    {
     "data": {
      "text/plain": [
       "0.0011557916665197979"
      ]
     },
     "execution_count": 37,
     "metadata": {},
     "output_type": "execute_result"
    }
   ],
   "source": [
    "# (Task 2 Step 4) Find the probability of an accident per mile due to automatic AV disengagement and slow reaction.\n",
    "prob_accident = (prob_rt_cld * prob_dpm_cld * prob_cld) + (prob_rt_clr * prob_dpm_clr * prob_clr)\n",
    "\n",
    "prob_accident"
   ]
  },
  {
   "cell_type": "markdown",
   "metadata": {},
   "source": [
    "Task 2 Step 4 - The probabilty of an accident per mile due to automatic AV disengagement and slow reaction is 0.0011557916665197979.\n",
    "\n",
    "P(accident per mile) = (P(RT > 0.4 | automatic, cloudy) * P(DPM | cloudy) * P(cloudy)) + (P(RT > 0.7 | automatic, clear) * P(DPM | clear) * P(clear))"
   ]
  },
  {
   "cell_type": "code",
   "execution_count": 38,
   "metadata": {},
   "outputs": [
    {
     "name": "stdout",
     "output_type": "stream",
     "text": [
      "0.0011557916665197979 2e-06\n",
      "577.895833259899\n"
     ]
    }
   ],
   "source": [
    "# (Task 2 Step 5) Find how the accident rates of AV obtained from the previous question compare to that of human drivers. \n",
    "prob_accident_human = 2e-6\n",
    "\n",
    "print(prob_accident, prob_accident_human)\n",
    "print(prob_accident/prob_accident_human)"
   ]
  },
  {
   "cell_type": "markdown",
   "metadata": {},
   "source": [
    "Task 2 Step 5 - The accident rates of an AV is a lot higher compared to accident rates that of human drivers. This indicates that we should be cautious when trusting AVs."
   ]
  },
  {
   "cell_type": "code",
   "execution_count": 39,
   "metadata": {},
   "outputs": [
    {
     "name": "stdout",
     "output_type": "stream",
     "text": [
      "0.05633178088267909 0.6872561980283933\n"
     ]
    }
   ],
   "source": [
    "# (Task 2 Step 6) Perform a two-sample Kolmogorov-Smirnov test  to compare the following two distributions: (1) distribution of disengagement reaction time when the weather is cloudy and (2) distribution of disengagement reaction time when the weather is clear.\n",
    "react_cld = av_disengage_df[(av_disengage_df['Weather'] == 'cloudy')]['ReactionTime']#.dropna()\n",
    "react_clr = av_disengage_df[(av_disengage_df['Weather'] == 'clear')]['ReactionTime']#.dropna()\n",
    "stat, pval = st.ks_2samp(react_cld, react_clr)\n",
    "print(stat, pval)"
   ]
  },
  {
   "cell_type": "markdown",
   "metadata": {},
   "source": [
    "Task 2 Step 6 -\n",
    "H_0: The distribution of disengagement reaction time when the weather is cloudy is equal to the distribution of disengagement reaction time when the weather is clear\n",
    "\n",
    "H_1: The distribution of disengagement reaction time when the weather is cloudy is not equal to the distribution of disengagement reaction time when the weather is clear\n",
    "\n",
    "By looking at our p-value of 0.6872561980283936, we are able to decide that at a significance level of 0.1, the distribution of disengagement reaction reaction time when the weather is cloudy is equal to the distribution of disengagement reaction time when the weather is clear."
   ]
  },
  {
   "cell_type": "code",
   "execution_count": 40,
   "metadata": {},
   "outputs": [
    {
     "data": {
      "text/html": [
       "<div>\n",
       "<style scoped>\n",
       "    .dataframe tbody tr th:only-of-type {\n",
       "        vertical-align: middle;\n",
       "    }\n",
       "\n",
       "    .dataframe tbody tr th {\n",
       "        vertical-align: top;\n",
       "    }\n",
       "\n",
       "    .dataframe thead th {\n",
       "        text-align: right;\n",
       "    }\n",
       "</style>\n",
       "<table border=\"1\" class=\"dataframe\">\n",
       "  <thead>\n",
       "    <tr style=\"text-align: right;\">\n",
       "      <th></th>\n",
       "      <th>Year</th>\n",
       "      <th>Month</th>\n",
       "      <th>Altitude</th>\n",
       "      <th>Phase_of_Flight</th>\n",
       "      <th>Precipitation</th>\n",
       "      <th>WindSpeed</th>\n",
       "      <th>Mission</th>\n",
       "      <th>RootCause</th>\n",
       "      <th>TimeBeforeAccident</th>\n",
       "    </tr>\n",
       "  </thead>\n",
       "  <tbody>\n",
       "    <tr>\n",
       "      <th>0</th>\n",
       "      <td>2016</td>\n",
       "      <td>3</td>\n",
       "      <td>15</td>\n",
       "      <td>TakeOff</td>\n",
       "      <td>Rainy</td>\n",
       "      <td>6</td>\n",
       "      <td>Training</td>\n",
       "      <td>Power System</td>\n",
       "      <td>8</td>\n",
       "    </tr>\n",
       "    <tr>\n",
       "      <th>1</th>\n",
       "      <td>2016</td>\n",
       "      <td>5</td>\n",
       "      <td>300</td>\n",
       "      <td>TakeOff</td>\n",
       "      <td>Rainy</td>\n",
       "      <td>10</td>\n",
       "      <td>Photography</td>\n",
       "      <td>Human Factor</td>\n",
       "      <td>3</td>\n",
       "    </tr>\n",
       "    <tr>\n",
       "      <th>2</th>\n",
       "      <td>2016</td>\n",
       "      <td>3</td>\n",
       "      <td>15</td>\n",
       "      <td>Cruise</td>\n",
       "      <td>Rainy</td>\n",
       "      <td>2</td>\n",
       "      <td>Training</td>\n",
       "      <td>Computational Software &amp; Hardware</td>\n",
       "      <td>5</td>\n",
       "    </tr>\n",
       "    <tr>\n",
       "      <th>3</th>\n",
       "      <td>2016</td>\n",
       "      <td>4</td>\n",
       "      <td>300</td>\n",
       "      <td>Cruise</td>\n",
       "      <td>Rainy</td>\n",
       "      <td>3</td>\n",
       "      <td>Photography</td>\n",
       "      <td>Communication Link</td>\n",
       "      <td>250</td>\n",
       "    </tr>\n",
       "    <tr>\n",
       "      <th>4</th>\n",
       "      <td>2016</td>\n",
       "      <td>7</td>\n",
       "      <td>45</td>\n",
       "      <td>TakeOff</td>\n",
       "      <td>Dry</td>\n",
       "      <td>8</td>\n",
       "      <td>Photography</td>\n",
       "      <td>Environmental Disruption</td>\n",
       "      <td>8</td>\n",
       "    </tr>\n",
       "  </tbody>\n",
       "</table>\n",
       "</div>"
      ],
      "text/plain": [
       "   Year  Month  Altitude Phase_of_Flight Precipitation  WindSpeed  \\\n",
       "0  2016      3        15         TakeOff         Rainy          6   \n",
       "1  2016      5       300         TakeOff         Rainy         10   \n",
       "2  2016      3        15          Cruise         Rainy          2   \n",
       "3  2016      4       300          Cruise         Rainy          3   \n",
       "4  2016      7        45         TakeOff           Dry          8   \n",
       "\n",
       "       Mission                          RootCause  TimeBeforeAccident  \n",
       "0     Training                       Power System                   8  \n",
       "1  Photography                       Human Factor                   3  \n",
       "2     Training  Computational Software & Hardware                   5  \n",
       "3  Photography                 Communication Link                 250  \n",
       "4  Photography           Environmental Disruption                   8  "
      ]
     },
     "execution_count": 40,
     "metadata": {},
     "output_type": "execute_result"
    }
   ],
   "source": [
    "body = client_af86b34e8e50450f835e7a79dc50ab8e.get_object(Bucket='cs498-donotdelete-pr-8bi3hnl4d9fu5v',Key='mp1_uav_accidents.csv')['Body']\n",
    "# add missing __iter__ method, so pandas accepts body as file-like object\n",
    "if not hasattr(body, \"__iter__\"): body.__iter__ = types.MethodType( __iter__, body )\n",
    "\n",
    "accidents = pd.read_csv(body)\n",
    "accidents.head()\n"
   ]
  },
  {
   "cell_type": "code",
   "execution_count": 41,
   "metadata": {},
   "outputs": [
    {
     "data": {
      "text/html": [
       "<div>\n",
       "<style scoped>\n",
       "    .dataframe tbody tr th:only-of-type {\n",
       "        vertical-align: middle;\n",
       "    }\n",
       "\n",
       "    .dataframe tbody tr th {\n",
       "        vertical-align: top;\n",
       "    }\n",
       "\n",
       "    .dataframe thead th {\n",
       "        text-align: right;\n",
       "    }\n",
       "</style>\n",
       "<table border=\"1\" class=\"dataframe\">\n",
       "  <thead>\n",
       "    <tr style=\"text-align: right;\">\n",
       "      <th></th>\n",
       "      <th>Year</th>\n",
       "      <th>Month</th>\n",
       "      <th>Accumulated_hours</th>\n",
       "    </tr>\n",
       "  </thead>\n",
       "  <tbody>\n",
       "    <tr>\n",
       "      <th>0</th>\n",
       "      <td>2016</td>\n",
       "      <td>1</td>\n",
       "      <td>2600</td>\n",
       "    </tr>\n",
       "    <tr>\n",
       "      <th>1</th>\n",
       "      <td>2016</td>\n",
       "      <td>2</td>\n",
       "      <td>4000</td>\n",
       "    </tr>\n",
       "    <tr>\n",
       "      <th>2</th>\n",
       "      <td>2016</td>\n",
       "      <td>3</td>\n",
       "      <td>4600</td>\n",
       "    </tr>\n",
       "    <tr>\n",
       "      <th>3</th>\n",
       "      <td>2016</td>\n",
       "      <td>4</td>\n",
       "      <td>1900</td>\n",
       "    </tr>\n",
       "    <tr>\n",
       "      <th>4</th>\n",
       "      <td>2016</td>\n",
       "      <td>5</td>\n",
       "      <td>7600</td>\n",
       "    </tr>\n",
       "  </tbody>\n",
       "</table>\n",
       "</div>"
      ],
      "text/plain": [
       "   Year  Month  Accumulated_hours\n",
       "0  2016      1               2600\n",
       "1  2016      2               4000\n",
       "2  2016      3               4600\n",
       "3  2016      4               1900\n",
       "4  2016      5               7600"
      ]
     },
     "execution_count": 41,
     "metadata": {},
     "output_type": "execute_result"
    }
   ],
   "source": [
    "body = client_af86b34e8e50450f835e7a79dc50ab8e.get_object(Bucket='cs498-donotdelete-pr-8bi3hnl4d9fu5v',Key='mp1_uav_totalhours.csv')['Body']\n",
    "# add missing __iter__ method, so pandas accepts body as file-like object\n",
    "if not hasattr(body, \"__iter__\"): body.__iter__ = types.MethodType( __iter__, body )\n",
    "\n",
    "hours = pd.read_csv(body)\n",
    "hours.head()\n"
   ]
  },
  {
   "cell_type": "code",
   "execution_count": 42,
   "metadata": {},
   "outputs": [],
   "source": [
    "df1 = pd.DataFrame(columns = ['Year', 'Month', 'Num_accidents'])\n",
    "\n",
    "for year in range(2016, 2021):\n",
    "    for month in range(1,13):\n",
    "        num_accidents = len(accidents[(accidents['Year'] == year) & (accidents['Month'] == month)])\n",
    "        df1 = df1.append({'Year': year, 'Month': month, 'Num_accidents' : float(num_accidents)}, ignore_index = True)\n",
    "\n",
    "df1.drop([56,57,58,59], inplace=True)\n",
    "\n",
    "\n",
    "df1['FlightHours'] = hours['Accumulated_hours']\n",
    "\n",
    "accident_hrs = []\n",
    "for x in range(len(df1)):\n",
    "    num_accidents = df1.at[x,'Num_accidents']\n",
    "    flighthours = df1.at[x, 'FlightHours']\n",
    "    accident_hrs.append(num_accidents/flighthours)\n",
    "    \n",
    "df1['Accident Per Flight Hour'] = accident_hrs"
   ]
  },
  {
   "cell_type": "code",
   "execution_count": 43,
   "metadata": {},
   "outputs": [
    {
     "data": {
      "text/plain": [
       "Text(0.5, 1.0, 'Accidents Per Flight Hour Per Month')"
      ]
     },
     "execution_count": 43,
     "metadata": {},
     "output_type": "execute_result"
    },
    {
     "data": {
      "image/png": "[encoded data removed]",
      "text/plain": [
       "<Figure size 432x288 with 1 Axes>"
      ]
     },
     "metadata": {
      "needs_background": "light"
     },
     "output_type": "display_data"
    }
   ],
   "source": [
    "sns.lineplot(data=df1['Accident Per Flight Hour'])\n",
    "plt.xlabel(\"Months since 01/2016\")\n",
    "plt.title(\"Accidents Per Flight Hour Per Month\")\n",
    "#1: The accident per flight hour has been decreasing with an exponential decay.\n",
    "#   This indicates that UAV technology is still progressing, but the impact of \n",
    "#   each innovation on lowering accident rates is decreasing."
   ]
  },
  {
   "cell_type": "code",
   "execution_count": 44,
   "metadata": {},
   "outputs": [
    {
     "data": {
      "text/plain": [
       "<seaborn.axisgrid.FacetGrid at 0x7fcf17974210>"
      ]
     },
     "execution_count": 44,
     "metadata": {},
     "output_type": "execute_result"
    },
    {
     "data": {
      "image/png": "[encoded data removed]",
      "text/plain": [
       "<Figure size 360x360 with 1 Axes>"
      ]
     },
     "metadata": {
      "needs_background": "light"
     },
     "output_type": "display_data"
    }
   ],
   "source": [
    "#2a: A longer time before accident indicates that the UAV is less prone to failure.\n",
    "#2b: The TimeBeforeAccident Data follows an expontial distribution.  \n",
    "sns.displot(data=accidents['TimeBeforeAccident'])"
   ]
  },
  {
   "cell_type": "code",
   "execution_count": 45,
   "metadata": {},
   "outputs": [
    {
     "data": {
      "text/plain": [
       "Text(0.5, 1.0, 'Time Before Accident vs Wind Speed')"
      ]
     },
     "execution_count": 45,
     "metadata": {},
     "output_type": "execute_result"
    },
    {
     "data": {
      "image/png": "[encoded data removed]",
      "text/plain": [
       "<Figure size 432x288 with 1 Axes>"
      ]
     },
     "metadata": {
      "needs_background": "light"
     },
     "output_type": "display_data"
    }
   ],
   "source": [
    "sns.scatterplot(x=accidents['WindSpeed'], y=accidents['TimeBeforeAccident'], data=accidents)\n",
    "plt.title(\"Time Before Accident vs Wind Speed\")\n",
    "# There appears to be a strong correlation between flight time and wind speeds\n",
    "# greater than ~14mph, but from 0~14mph there seems to be less correlation."
   ]
  },
  {
   "cell_type": "code",
   "execution_count": 46,
   "metadata": {},
   "outputs": [
    {
     "data": {
      "text/html": [
       "<div>\n",
       "<style scoped>\n",
       "    .dataframe tbody tr th:only-of-type {\n",
       "        vertical-align: middle;\n",
       "    }\n",
       "\n",
       "    .dataframe tbody tr th {\n",
       "        vertical-align: top;\n",
       "    }\n",
       "\n",
       "    .dataframe thead th {\n",
       "        text-align: right;\n",
       "    }\n",
       "</style>\n",
       "<table border=\"1\" class=\"dataframe\">\n",
       "  <thead>\n",
       "    <tr style=\"text-align: right;\">\n",
       "      <th></th>\n",
       "      <th>Year</th>\n",
       "      <th>Month</th>\n",
       "      <th>Altitude</th>\n",
       "      <th>WindSpeed</th>\n",
       "      <th>TimeBeforeAccident</th>\n",
       "    </tr>\n",
       "  </thead>\n",
       "  <tbody>\n",
       "    <tr>\n",
       "      <th>Year</th>\n",
       "      <td>1.000000</td>\n",
       "      <td>-0.150829</td>\n",
       "      <td>-0.065389</td>\n",
       "      <td>0.034950</td>\n",
       "      <td>0.013348</td>\n",
       "    </tr>\n",
       "    <tr>\n",
       "      <th>Month</th>\n",
       "      <td>-0.150829</td>\n",
       "      <td>1.000000</td>\n",
       "      <td>0.046849</td>\n",
       "      <td>0.030255</td>\n",
       "      <td>0.019269</td>\n",
       "    </tr>\n",
       "    <tr>\n",
       "      <th>Altitude</th>\n",
       "      <td>-0.065389</td>\n",
       "      <td>0.046849</td>\n",
       "      <td>1.000000</td>\n",
       "      <td>-0.002257</td>\n",
       "      <td>-0.079376</td>\n",
       "    </tr>\n",
       "    <tr>\n",
       "      <th>WindSpeed</th>\n",
       "      <td>0.034950</td>\n",
       "      <td>0.030255</td>\n",
       "      <td>-0.002257</td>\n",
       "      <td>1.000000</td>\n",
       "      <td>-0.347758</td>\n",
       "    </tr>\n",
       "    <tr>\n",
       "      <th>TimeBeforeAccident</th>\n",
       "      <td>0.013348</td>\n",
       "      <td>0.019269</td>\n",
       "      <td>-0.079376</td>\n",
       "      <td>-0.347758</td>\n",
       "      <td>1.000000</td>\n",
       "    </tr>\n",
       "  </tbody>\n",
       "</table>\n",
       "</div>"
      ],
      "text/plain": [
       "                        Year     Month  Altitude  WindSpeed  \\\n",
       "Year                1.000000 -0.150829 -0.065389   0.034950   \n",
       "Month              -0.150829  1.000000  0.046849   0.030255   \n",
       "Altitude           -0.065389  0.046849  1.000000  -0.002257   \n",
       "WindSpeed           0.034950  0.030255 -0.002257   1.000000   \n",
       "TimeBeforeAccident  0.013348  0.019269 -0.079376  -0.347758   \n",
       "\n",
       "                    TimeBeforeAccident  \n",
       "Year                          0.013348  \n",
       "Month                         0.019269  \n",
       "Altitude                     -0.079376  \n",
       "WindSpeed                    -0.347758  \n",
       "TimeBeforeAccident            1.000000  "
      ]
     },
     "execution_count": 46,
     "metadata": {},
     "output_type": "execute_result"
    }
   ],
   "source": [
    "accidents.corr(method='pearson')"
   ]
  },
  {
   "cell_type": "code",
   "execution_count": 47,
   "metadata": {},
   "outputs": [
    {
     "data": {
      "text/plain": [
       "<matplotlib.axes._subplots.AxesSubplot at 0x7fcf05cd7990>"
      ]
     },
     "execution_count": 47,
     "metadata": {},
     "output_type": "execute_result"
    },
    {
     "data": {
      "image/png": "[encoded data removed]",
      "text/plain": [
       "<Figure size 432x288 with 1 Axes>"
      ]
     },
     "metadata": {
      "needs_background": "light"
     },
     "output_type": "display_data"
    }
   ],
   "source": [
    "high_low = []\n",
    "for speed in accidents['WindSpeed']:\n",
    "    if speed > 10:\n",
    "        high_low.append('H')\n",
    "    else:\n",
    "        high_low.append('L')\n",
    "\n",
    "accidents['High/Low'] = high_low\n",
    "sns.boxplot(x=\"High/Low\", y=\"TimeBeforeAccident\", data=accidents)"
   ]
  },
  {
   "cell_type": "code",
   "execution_count": 48,
   "metadata": {},
   "outputs": [
    {
     "name": "stdout",
     "output_type": "stream",
     "text": [
      "High: 29.341463414634145 Low: 95.77222222222223\n"
     ]
    }
   ],
   "source": [
    "low_ = accidents[(accidents['High/Low']=='L')]\n",
    "total_time_L = sum(low_['TimeBeforeAccident'])\n",
    "avg_time_L = total_time_L/len(low_)\n",
    "\n",
    "high_ = accidents[(accidents['High/Low']=='H')]\n",
    "total_time_H = sum(high_['TimeBeforeAccident'])\n",
    "avg_time_H = total_time_H/len(high_)\n",
    "\n",
    "print(\"High:\", avg_time_H, \"Low:\", avg_time_L)"
   ]
  },
  {
   "cell_type": "code",
   "execution_count": 49,
   "metadata": {},
   "outputs": [
    {
     "name": "stdout",
     "output_type": "stream",
     "text": [
      "z: -0.15502057869287905\n"
     ]
    }
   ],
   "source": [
    "#Followed Z-Stat example from lecture 2 slides 42-43\n",
    "\n",
    "n_h = len(high_) # Num high windspeeds\n",
    "n_l = len(low_)  #Num low windspeeds\n",
    "\n",
    "T = n_h+n_l #Total num samples\n",
    "\n",
    "pL = n_l/T\n",
    "pH = n_h/T\n",
    "p = (pL+pH)/(2*T)\n",
    "q = 1-p\n",
    "\n",
    "num = pL - pH\n",
    "den = np.sqrt(p*q*2*T)\n",
    "z = num/den\n",
    "\n",
    "print(\"z:\", z)"
   ]
  },
  {
   "cell_type": "code",
   "execution_count": 56,
   "metadata": {},
   "outputs": [
    {
     "name": "stdout",
     "output_type": "stream",
     "text": [
      "Assuming Low wind speeds: P(sens/mech | takeoff) =  0.16666666666666669\n"
     ]
    }
   ],
   "source": [
    "#Task 3.5.a\n",
    "\n",
    "\n",
    "# P(sens/mech | takeoff) = (P(takeoff | sens/mech) * P(sens/mech)) / P(takeoff)\n",
    "# P(takeoff | sens/mech) = P(takeoff & sens/mech) / P(sens/mech)\n",
    "\n",
    "\n",
    "takeoff = low_[(low_['Phase_of_Flight'])=='TakeOff']\n",
    "sensor_mech = takeoff[(takeoff['RootCause'])=='Sensors & Mechanical Components']\n",
    "\n",
    "prior_sensor_mech = len(sensor_mech)/len(low_) # P(sens/mech)\n",
    "prior_takeoff = len(takeoff)/len(low_) # P(takeoff)\n",
    "\n",
    "sens_mech_takeoff = sensor_mech\n",
    "p_sens_mech_takeoff = len(sens_mech_takeoff)/len(low_) # P(takeoff & sens/mech)\n",
    "likelihood = p_sens_mech_takeoff / prior_sensor_mech # P(takeoff | sens/mech)\n",
    "\n",
    "posterior = likelihood * prior_sensor_mech / prior_takeoff #P(sens/mech | takeoff)\n",
    "\n",
    "\n",
    "print(\"Assuming Low wind speeds: P(sens/mech | takeoff) = \",posterior)"
   ]
  },
  {
   "cell_type": "code",
   "execution_count": 57,
   "metadata": {},
   "outputs": [
    {
     "name": "stdout",
     "output_type": "stream",
     "text": [
      "Assuming Low wind speeds: P(sens/mech | takeoff) =  0.15999999999999998\n"
     ]
    }
   ],
   "source": [
    "#Assume that accident during first flight becomes a data point in the accident data and alters our likelihood and evidence.\n",
    "\n",
    "prior_sensor_mech = len(sensor_mech)/(1+len(low_)) # P(sens/mech)\n",
    "prior_takeoff = (len(takeoff)+1)/(1+len(low_)) # P(takeoff)\n",
    "\n",
    "sens_mech_takeoff = sensor_mech\n",
    "p_sens_mech_takeoff = len(sens_mech_takeoff)/(1+len(low_)) # P(takeoff & sens/mech)\n",
    "likelihood = p_sens_mech_takeoff / prior_sensor_mech # P(takeoff | sens/mech)\n",
    "\n",
    "posterior = likelihood * prior_sensor_mech / prior_takeoff #P(sens/mech | takeoff)\n",
    "\n",
    "\n",
    "print(\"Assuming Low wind speeds: P(sens/mech | takeoff) = \",posterior)"
   ]
  },
  {
   "cell_type": "code",
   "execution_count": 60,
   "metadata": {},
   "outputs": [
    {
     "name": "stdout",
     "output_type": "stream",
     "text": [
      "Assuming High wind speeds: P(sens/mech | takeoff) =  0.18518518518518517\n"
     ]
    }
   ],
   "source": [
    "# 3.5.d\n",
    "\n",
    "# P(sens/mech | takeoff) = (P(takeoff | sens/mech) * P(sens/mech)) / P(takeoff)\n",
    "# P(takeoff | sens/mech) = P(takeoff & sens/mech) / P(sens/mech)\n",
    "\n",
    "\n",
    "takeoff = high_[(high_['Phase_of_Flight'])=='TakeOff']\n",
    "sensor_mech = takeoff[(takeoff['RootCause'])=='Sensors & Mechanical Components']\n",
    "\n",
    "prior_sensor_mech = len(sensor_mech)/len(high_) # P(sens/mech)\n",
    "prior_takeoff = len(takeoff)/len(high_) # P(takeoff)\n",
    "\n",
    "sens_mech_takeoff = sensor_mech\n",
    "p_sens_mech_takeoff = len(sens_mech_takeoff)/len(high_) # P(takeoff & sens/mech)\n",
    "likelihood = p_sens_mech_takeoff / prior_sensor_mech # P(takeoff | sens/mech)\n",
    "\n",
    "posterior = likelihood * prior_sensor_mech / prior_takeoff #P(sens/mech | takeoff)\n",
    "\n",
    "\n",
    "print(\"Assuming High wind speeds: P(sens/mech | takeoff) = \",posterior)"
   ]
  },
  {
   "cell_type": "code",
   "execution_count": 61,
   "metadata": {},
   "outputs": [
    {
     "name": "stdout",
     "output_type": "stream",
     "text": [
      "Assuming High wind speeds: P(sens/mech | takeoff) =  0.17857142857142858\n"
     ]
    }
   ],
   "source": [
    "#Assume that accident during first flight becomes a data point in the accident data and alters our likelihood and evidence.\n",
    "\n",
    "prior_sensor_mech = len(sensor_mech)/(1+len(high_)) # P(sens/mech)\n",
    "prior_takeoff = (len(takeoff)+1)/(1+len(high_)) # P(takeoff)\n",
    "\n",
    "sens_mech_takeoff = sensor_mech\n",
    "p_sens_mech_takeoff = len(sens_mech_takeoff)/(1+len(high_)) # P(takeoff & sens/mech)\n",
    "likelihood = p_sens_mech_takeoff / prior_sensor_mech # P(takeoff | sens/mech)\n",
    "\n",
    "posterior = likelihood * prior_sensor_mech / prior_takeoff #P(sens/mech | takeoff)\n",
    "\n",
    "\n",
    "print(\"Assuming High wind speeds: P(sens/mech | takeoff) = \",posterior)"
   ]
  },
  {
   "cell_type": "code",
   "execution_count": 62,
   "metadata": {},
   "outputs": [
    {
     "name": "stdout",
     "output_type": "stream",
     "text": [
      "P_Rainy = 0.6995305164319249 P_Dry = 0.3004694835680751\n",
      "W_Low = 0.4225352112676056 W_High = 0.5774647887323944\n"
     ]
    }
   ],
   "source": [
    "#Calculating Conditional Probabilites for 3.6.c:\n",
    "\n",
    "P_Rainy = accidents[(accidents['Precipitation']) == 'Rainy']\n",
    "P_Dry = accidents[(accidents['Precipitation']) == 'Dry']\n",
    "print('P_Rainy =', (len(P_Rainy)/len(accidents)), 'P_Dry =', len(P_Dry)/len(accidents))\n",
    "\n",
    "W_Low = accidents[(accidents['High/Low']) == 'L']\n",
    "W_High = accidents[(accidents['High/Low']) == 'H']\n",
    "print('W_Low =', (len(W_Low)/len(accidents)), 'W_High =', len(W_High)/len(accidents))"
   ]
  },
  {
   "cell_type": "code",
   "execution_count": 63,
   "metadata": {},
   "outputs": [
    {
     "name": "stdout",
     "output_type": "stream",
     "text": [
      "SMF_PR_WH = 0.21637426900584794 N_SMF_PR_WH = 0.783625730994152\n",
      "SMF_PR_WL = 0.23622047244094488 N_SMF_PR_WL = 0.7637795275590551\n",
      "SMF_PD_WL = 0.18867924528301888 N_SMF_PD_WL = 0.8113207547169812\n",
      "SMF_PD_WH = 0.22666666666666666 N_SMF_PD_WH = 0.7733333333333333\n"
     ]
    }
   ],
   "source": [
    "# Variable Naming:\n",
    "# N_SMF... = Not Sensor/Mech Failure\n",
    "# R_L = Rainy & Low Wind Speeds\n",
    "# PD = Precipitation Dry\n",
    "# WH = High Wind Speeds\n",
    "# TOF, C, L = TakeOff, Cruise, Landing\n",
    "\n",
    "\n",
    "#P(Sensor & Mechanical Component Failure | Precipitation, Wind Speed)\n",
    "\n",
    "R_L = accidents[(accidents['High/Low'] == 'L') & (accidents['Precipitation'] == 'Rainy')]\n",
    "R_H = accidents[(accidents['High/Low'] == 'H') & (accidents['Precipitation'] == 'Rainy')]\n",
    "\n",
    "D_L = accidents[(accidents['High/Low'] == 'L') & (accidents['Precipitation'] == 'Dry')]\n",
    "D_H = accidents[(accidents['High/Low'] == 'H') & (accidents['Precipitation'] == 'Dry')]\n",
    "\n",
    "SMF_PR_WH = accidents[(accidents['High/Low'] == 'H') & (accidents['Precipitation'] == 'Rainy') & (accidents['RootCause'] == 'Sensors & Mechanical Components')]\n",
    "N_SMF_PR_WH = accidents[(accidents['High/Low'] == 'H') & (accidents['Precipitation'] == 'Rainy') & (accidents['RootCause'] != 'Sensors & Mechanical Components')]\n",
    "print('SMF_PR_WH =', len(SMF_PR_WH)/len(R_H), 'N_SMF_PR_WH =', len(N_SMF_PR_WH)/len(R_H))\n",
    "\n",
    "SMF_PR_WL = accidents[(accidents['High/Low'] == 'L') & (accidents['Precipitation'] == 'Rainy') & (accidents['RootCause'] == 'Sensors & Mechanical Components')]\n",
    "N_SMF_PR_WL = accidents[(accidents['High/Low'] == 'L') & (accidents['Precipitation'] == 'Rainy') & (accidents['RootCause'] != 'Sensors & Mechanical Components')]\n",
    "print('SMF_PR_WL =', len(SMF_PR_WL)/len(R_L), 'N_SMF_PR_WL =', len(N_SMF_PR_WL)/len(R_L))\n",
    "\n",
    "SMF_PD_WL = accidents[(accidents['High/Low'] == 'L') & (accidents['Precipitation'] == 'Dry') & (accidents['RootCause'] == 'Sensors & Mechanical Components')]\n",
    "N_SMF_PD_WL = accidents[(accidents['High/Low'] == 'L') & (accidents['Precipitation'] == 'Dry') & (accidents['RootCause'] != 'Sensors & Mechanical Components')]\n",
    "print('SMF_PD_WL =', len(SMF_PD_WL)/len(D_L), 'N_SMF_PD_WL =', len(N_SMF_PD_WL)/len(D_L))\n",
    "\n",
    "SMF_PD_WH = accidents[(accidents['High/Low'] == 'H') & (accidents['Precipitation'] == 'Dry') & (accidents['RootCause'] == 'Sensors & Mechanical Components')]\n",
    "N_SMF_PD_WH = accidents[(accidents['High/Low'] == 'H') & (accidents['Precipitation'] == 'Dry') & (accidents['RootCause'] != 'Sensors & Mechanical Components')]\n",
    "print('SMF_PD_WH =', len(SMF_PD_WH)/len(D_H), 'N_SMF_PD_WH =', len(N_SMF_PD_WH)/len(D_H))"
   ]
  },
  {
   "cell_type": "code",
   "execution_count": 64,
   "metadata": {},
   "outputs": [
    {
     "name": "stdout",
     "output_type": "stream",
     "text": [
      "SMF_TOF =  0.09574468085106383 N_SMF_TOF =  0.12650602409638553\n",
      "SMF_C =  0.6914893617021277 N_SMF_C =  0.6536144578313253\n",
      "SMF_L =  0.2127659574468085 N_SMF_L =  0.21987951807228914\n"
     ]
    }
   ],
   "source": [
    "#P(Phase of Flight | Sensor & Mechanical Components Failure)\n",
    "SMF = accidents[(accidents['RootCause'] == 'Sensors & Mechanical Components')]\n",
    "N_SMF = accidents[(accidents['RootCause'] != 'Sensors & Mechanical Components')]\n",
    "\n",
    "SMF_TOF = accidents[(accidents['Phase_of_Flight'] == 'TakeOff') & (accidents['RootCause'] == 'Sensors & Mechanical Components')]\n",
    "N_SMF_TOF = accidents[(accidents['Phase_of_Flight'] == 'TakeOff') & (accidents['RootCause'] != 'Sensors & Mechanical Components')]\n",
    "print(\"SMF_TOF = \", len(SMF_TOF)/len(SMF), \"N_SMF_TOF = \", len(N_SMF_TOF)/len(N_SMF))\n",
    "\n",
    "SMF_C = accidents[(accidents['Phase_of_Flight'] == 'Cruise') & (accidents['RootCause'] == 'Sensors & Mechanical Components')]\n",
    "N_SMF_C = accidents[(accidents['Phase_of_Flight'] == 'Cruise') & (accidents['RootCause'] != 'Sensors & Mechanical Components')]\n",
    "print(\"SMF_C = \", len(SMF_C)/len(SMF), \"N_SMF_C = \", len(N_SMF_C)/len(N_SMF))\n",
    "\n",
    "SMF_L = accidents[(accidents['Phase_of_Flight'] == 'Landing') & (accidents['RootCause'] == 'Sensors & Mechanical Components')]\n",
    "N_SMF_L = accidents[(accidents['Phase_of_Flight'] == 'Landing') & (accidents['RootCause'] != 'Sensors & Mechanical Components')]\n",
    "print(\"SMF_L = \", len(SMF_L)/len(SMF), \"N_SMF_L = \", len(N_SMF_L)/len(N_SMF))"
   ]
  },
  {
   "cell_type": "code",
   "execution_count": 65,
   "metadata": {},
   "outputs": [
    {
     "name": "stdout",
     "output_type": "stream",
     "text": [
      "P(F=Cruise) = 0.6619718309859155\n"
     ]
    }
   ],
   "source": [
    "# P(Cruise)\n",
    "\n",
    "cruise = accidents[(accidents['Phase_of_Flight']) == 'Cruise']\n",
    "print(\"P(F=Cruise) =\", len(cruise)/len(accidents))"
   ]
  },
  {
   "cell_type": "code",
   "execution_count": null,
   "metadata": {},
   "outputs": [],
   "source": []
  }
 ],
 "metadata": {
  "kernelspec": {
   "display_name": "Python 3.7",
   "language": "python",
   "name": "python3"
  },
  "language_info": {
   "codemirror_mode": {
    "name": "ipython",
    "version": 3
   },
   "file_extension": ".py",
   "mimetype": "text/x-python",
   "name": "python",
   "nbconvert_exporter": "python",
   "pygments_lexer": "ipython3",
   "version": "3.7.9"
  }
 },
 "nbformat": 4,
 "nbformat_minor": 1
}
